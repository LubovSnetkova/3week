{
 "cells": [
  {
   "cell_type": "markdown",
   "metadata": {},
   "source": [
    "First"
   ]
  },
  {
   "cell_type": "code",
   "execution_count": null,
   "metadata": {},
   "outputs": [],
   "source": [
    "import pandas as pd\n",
    "import numpy  as np\n",
    "\n",
    "\n",
    "url='https://en.wikipedia.org/wiki/List_of_postal_codes_of_Canada:_M' #url\n",
    "df=pd.read_html(url) #read data"
   ]
  },
  {
   "cell_type": "code",
   "execution_count": null,
   "metadata": {},
   "outputs": [],
   "source": [
    "column_names = ['Postcode','Borough', 'Neighborhood'] # name column\n",
    "neighborhoods = pd.DataFrame(columns=column_names) #create dataframe\n",
    "neighborhoods=df[0] # write the first element\n",
    "neighborhoods.head(11) "
   ]
  },
  {
   "cell_type": "code",
   "execution_count": null,
   "metadata": {},
   "outputs": [],
   "source": [
    "neighborhoods= neighborhoods.drop(np.where(neighborhoods['Borough'] == \"Not assigned\")[0])# replace \"Not assigned\" with Nan\n",
    "neighborhoods.head(12)"
   ]
  },
  {
   "cell_type": "code",
   "execution_count": null,
   "metadata": {},
   "outputs": [],
   "source": [
    "neighborhoods['Neighbourhood']=neighborhoods['Neighbourhood'].replace('Not assigned',np.nan)# replace \"Not assigned\" with Nan\n",
    "df2=neighborhoods.fillna(method='ffill',axis=1) # where 'Not assigned' we write 'Borough'\n",
    "df2.head(12)"
   ]
  },
  {
   "cell_type": "code",
   "execution_count": null,
   "metadata": {},
   "outputs": [],
   "source": [
    "ng2=df2.groupby(['Postcode', 'Borough'])['Neighbourhood'].apply(', '.join).reset_index() #'Borough' with the same indices combine\n",
    "ng2.head(20)"
   ]
  },
  {
   "cell_type": "code",
   "execution_count": null,
   "metadata": {},
   "outputs": [],
   "source": [
    "ng2.shape"
   ]
  },
  {
   "cell_type": "code",
   "execution_count": null,
   "metadata": {},
   "outputs": [],
   "source": []
  }
 ],
 "metadata": {
  "kernelspec": {
   "display_name": "Python 3",
   "language": "python",
   "name": "python3"
  },
  "language_info": {
   "codemirror_mode": {
    "name": "ipython",
    "version": 3
   },
   "file_extension": ".py",
   "mimetype": "text/x-python",
   "name": "python",
   "nbconvert_exporter": "python",
   "pygments_lexer": "ipython3",
   "version": "3.7.3"
  }
 },
 "nbformat": 4,
 "nbformat_minor": 2
}
